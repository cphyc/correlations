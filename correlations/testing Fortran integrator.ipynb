{
 "cells": [
  {
   "cell_type": "code",
   "execution_count": 1,
   "metadata": {},
   "outputs": [],
   "source": [
    "%load_ext autoreload\n",
    "%autoreload 2"
   ]
  },
  {
   "cell_type": "code",
   "execution_count": 2,
   "metadata": {},
   "outputs": [],
   "source": [
    "import numpy as np\n",
    "from scipy.integrate import tplquad, quad\n",
    "from scipy import LowLevelCallable"
   ]
  },
  {
   "cell_type": "code",
   "execution_count": 3,
   "metadata": {},
   "outputs": [],
   "source": [
    "%load_ext Cython"
   ]
  },
  {
   "cell_type": "code",
   "execution_count": 4,
   "metadata": {},
   "outputs": [],
   "source": [
    "def sigma_intgd_py(k, i, ns, R):\n",
    "    return k**(2+ns) * np.exp(-k**2*R**2)"
   ]
  },
  {
   "cell_type": "code",
   "execution_count": 5,
   "metadata": {},
   "outputs": [],
   "source": [
    "%%cython\n",
    "cdef extern from \"math.h\":\n",
    "    double exp(double x)\n",
    "    double sin(double x)\n",
    "    double cos(double x)\n",
    "\n",
    "def sigma_intgd_cy(double k, int i, double ns, double R):\n",
    "    return k**(2+ns) * exp(-k**2*R**2)\n",
    "\n",
    "cpdef double sigma_intgd_cy2(double k, int i, double ns, double R):\n",
    "    return k**(2+ns) * exp(-k**2*R**2)"
   ]
  },
  {
   "cell_type": "code",
   "execution_count": 6,
   "metadata": {},
   "outputs": [
    {
     "name": "stdout",
     "output_type": "stream",
     "text": [
      "10000 loops, best of 3: 174 µs per loop\n",
      "10000 loops, best of 3: 22.9 µs per loop\n",
      "10000 loops, best of 3: 24.5 µs per loop\n"
     ]
    }
   ],
   "source": [
    "%timeit quad(sigma_intgd_py, 0, np.inf, args=(0, -2, 1))\n",
    "%timeit quad(sigma_intgd_cy, 0, np.inf, args=(0, -2, 1))\n",
    "%timeit quad(sigma_intgd_cy2, 0, np.inf, args=(0, -2, 1))"
   ]
  },
  {
   "cell_type": "code",
   "execution_count": 7,
   "metadata": {},
   "outputs": [],
   "source": [
    "def integrand_py(k, theta, phi, x, y, z, ns, R):\n",
    "    kx = np.sin(theta)*np.sin(phi)\n",
    "    ky = np.sin(theta)*np.cos(phi)\n",
    "    kz = np.cos(theta)\n",
    "    return (k**(2+ns) * np.exp(-(k*R)**2) *\n",
    "            np.real(np.exp(1j*(kx*x + ky*y + kz*z))))"
   ]
  },
  {
   "cell_type": "code",
   "execution_count": 8,
   "metadata": {},
   "outputs": [],
   "source": [
    "%%cython -3\n",
    "from scipy.integrate import tplquad, quad\n",
    "cimport numpy as np\n",
    "import numpy as np\n",
    "cdef double pi = np.pi\n",
    "cdef double twopi = 2*np.pi\n",
    "cdef double inf = np.inf\n",
    "\n",
    "ctypedef np.float64_t DOUBLE_t\n",
    "\n",
    "cdef extern from \"math.h\":\n",
    "    DOUBLE_t exp(DOUBLE_t x)\n",
    "    DOUBLE_t sin(DOUBLE_t x)\n",
    "    DOUBLE_t cos(DOUBLE_t x)    \n",
    "    \n",
    "cpdef double integrand_cy(DOUBLE_t k, DOUBLE_t theta, DOUBLE_t phi, DOUBLE_t x, DOUBLE_t y, DOUBLE_t z, DOUBLE_t ns, DOUBLE_t R):\n",
    "    cdef DOUBLE_t sintheta = sin(theta)\n",
    "    cdef DOUBLE_t kx, ky, kz\n",
    "    \n",
    "    kx = sintheta*sin(phi)\n",
    "    ky = sintheta*cos(phi)\n",
    "    kz = cos(theta)\n",
    "\n",
    "    return (k**(2+ns) * exp(-(k*R)**2) *\n",
    "            cos((kx*x + ky*y + kz*z)))\n",
    "\n",
    "cdef DOUBLE_t thetamin(DOUBLE_t theta):\n",
    "    return 0\n",
    "\n",
    "cdef DOUBLE_t thetamax(DOUBLE_t theta):\n",
    "    return pi\n",
    "\n",
    "cdef DOUBLE_t kmin(DOUBLE_t phi, DOUBLE_t theta):\n",
    "    return 0\n",
    "\n",
    "cdef DOUBLE_t kmax(DOUBLE_t phi, DOUBLE_t theta):\n",
    "    return inf\n",
    "\n",
    "def integrate_from_cython(DOUBLE_t[:] pos):\n",
    "    x, y, z = pos[0], pos[1], pos[2]\n",
    "    return tplquad(integrand_cy, 0, twopi, thetamin, thetamax, kmin, kmax, args=(x, y, z, -2, 1), )\n",
    "\n",
    "\n",
    "cdef DOUBLE_t integrand1(DOUBLE_t theta, DOUBLE_t phi, DOUBLE_t x, DOUBLE_t y, DOUBLE_t z, DOUBLE_t ns, DOUBLE_t R):\n",
    "    res = quad(integrand_cy, 0, inf, args=(theta, phi, x, y, z, ns, R))\n",
    "    return res[0]\n",
    "\n",
    "cdef DOUBLE_t integrand2(DOUBLE_t phi, DOUBLE_t x, DOUBLE_t y, DOUBLE_t z, DOUBLE_t ns, DOUBLE_t R):\n",
    "    res = quad(integrand1, 0, twopi, args=(phi, x, y, z, ns, R))\n",
    "    return res[0]\n",
    "\n",
    "cpdef DOUBLE_t integrand3(DOUBLE_t x, DOUBLE_t y, DOUBLE_t z, DOUBLE_t ns, DOUBLE_t R):\n",
    "    res = quad(integrand2, 0, twopi, args=(x, y, z, ns, R))\n",
    "    return res[0]"
   ]
  },
  {
   "cell_type": "code",
   "execution_count": 12,
   "metadata": {},
   "outputs": [
    {
     "name": "stdout",
     "output_type": "stream",
     "text": [
      "CPU times: user 1.52 s, sys: 92.7 ms, total: 1.62 s\n",
      "Wall time: 1.48 s\n",
      "CPU times: user 65.8 ms, sys: 3.46 ms, total: 69.2 ms\n",
      "Wall time: 66 ms\n",
      "CPU times: user 64.7 ms, sys: 3.23 ms, total: 67.9 ms\n",
      "Wall time: 65 ms\n",
      "CPU times: user 136 ms, sys: 237 µs, total: 136 ms\n",
      "Wall time: 132 ms\n"
     ]
    },
    {
     "data": {
      "text/plain": [
       "((15.406900987081581, 1.4742902595539366e-08),\n",
       " (15.406900987081581, 1.4742902595539366e-08),\n",
       " (15.406900987081581, 1.4742902595539366e-08),\n",
       " 15.406900987081583)"
      ]
     },
     "execution_count": 12,
     "metadata": {},
     "output_type": "execute_result"
    }
   ],
   "source": [
    "twopi = 2*np.pi\n",
    "pi = np.pi\n",
    "inf = np.inf\n",
    "pos = [1., 0., 0.]\n",
    "%time a1 = tplquad(integrand_py, 0, twopi, lambda phi: 0, lambda phi: pi, lambda theta, phi: 0, lambda theta, phi: inf, args=pos + [-2, 1])\n",
    "%time a2 = tplquad(integrand_cy, 0, twopi, lambda phi: 0, lambda phi: pi, lambda theta, phi: 0, lambda theta, phi: inf, args=pos + [-2, 1])\n",
    "%time a3 = integrate_from_cython(np.asarray(pos))\n",
    "%time a4 = integrand3(*(pos + [-2, 1]))\n",
    "\n",
    "a1, a2, a3, a4/2"
   ]
  },
  {
   "cell_type": "code",
   "execution_count": null,
   "metadata": {},
   "outputs": [],
   "source": []
  }
 ],
 "metadata": {
  "kernelspec": {
   "display_name": "astrop2",
   "language": "python",
   "name": "astrop2"
  },
  "language_info": {
   "codemirror_mode": {
    "name": "ipython",
    "version": 2
   },
   "file_extension": ".py",
   "mimetype": "text/x-python",
   "name": "python",
   "nbconvert_exporter": "python",
   "pygments_lexer": "ipython2",
   "version": "2.7.15"
  }
 },
 "nbformat": 4,
 "nbformat_minor": 2
}
